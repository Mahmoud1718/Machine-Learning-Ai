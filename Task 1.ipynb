{
 "cells": [
  {
   "cell_type": "code",
   "execution_count": 1,
   "id": "179cbe9d",
   "metadata": {},
   "outputs": [
    {
     "name": "stdout",
     "output_type": "stream",
     "text": [
      "hello!, world\n"
     ]
    }
   ],
   "source": [
    "print(\"hello!, world\")"
   ]
  },
  {
   "cell_type": "code",
   "execution_count": 2,
   "id": "c270ec72",
   "metadata": {},
   "outputs": [
    {
     "name": "stdout",
     "output_type": "stream",
     "text": [
      "my name is amit, my age is 15\n"
     ]
    }
   ],
   "source": [
    "name = 'amit'\n",
    "age = '15'\n",
    "print(f'my name is amit,my age is')"
   ]
  },
  {
   "cell_type": "code",
   "execution_count": 7,
   "id": "5c783521",
   "metadata": {},
   "outputs": [
    {
     "name": "stdout",
     "output_type": "stream",
     "text": [
      "your_name is mahmoud, your_age 20, your_course machine learning and AI\n"
     ]
    }
   ],
   "source": [
    "our_name = \"mahmoud\"\n",
    "your_age = 20\n",
    "your_course = \"machine learning and AI\"\n",
    "\n",
    "print(f\"your_name is {our_name}, your_age {your_age}, your_course {your_course}\")\n"
   ]
  },
  {
   "cell_type": "code",
   "execution_count": 20,
   "id": "4c4eeec2",
   "metadata": {
    "scrolled": true
   },
   "outputs": [
    {
     "data": {
      "text/plain": [
       "'m'"
      ]
     },
     "execution_count": 20,
     "metadata": {},
     "output_type": "execute_result"
    }
   ],
   "source": [
    "s = \"mohamed ayman\"\n",
    "s[0]"
   ]
  },
  {
   "cell_type": "code",
   "execution_count": 11,
   "id": "2ce53984",
   "metadata": {},
   "outputs": [
    {
     "data": {
      "text/plain": [
       "'a'"
      ]
     },
     "execution_count": 11,
     "metadata": {},
     "output_type": "execute_result"
    }
   ],
   "source": [
    "s[3]"
   ]
  },
  {
   "cell_type": "code",
   "execution_count": 12,
   "id": "34dc0167",
   "metadata": {},
   "outputs": [
    {
     "data": {
      "text/plain": [
       "'moham'"
      ]
     },
     "execution_count": 12,
     "metadata": {},
     "output_type": "execute_result"
    }
   ],
   "source": [
    "s[0:5:1]"
   ]
  },
  {
   "cell_type": "code",
   "execution_count": 13,
   "id": "f1cb24af",
   "metadata": {},
   "outputs": [
    {
     "data": {
      "text/plain": [
       "['m', 'o', 'h', 'a', 'm', 'e', 'd']"
      ]
     },
     "execution_count": 13,
     "metadata": {},
     "output_type": "execute_result"
    }
   ],
   "source": [
    "list(s)"
   ]
  },
  {
   "cell_type": "code",
   "execution_count": 14,
   "id": "ab888e72",
   "metadata": {},
   "outputs": [
    {
     "name": "stdout",
     "output_type": "stream",
     "text": [
      "MOHAMED\n"
     ]
    }
   ],
   "source": [
    "print(s.upper())"
   ]
  },
  {
   "cell_type": "code",
   "execution_count": 15,
   "id": "3dc1ee79",
   "metadata": {},
   "outputs": [
    {
     "name": "stdout",
     "output_type": "stream",
     "text": [
      "mohamed\n"
     ]
    }
   ],
   "source": [
    "print(s.lower())"
   ]
  },
  {
   "cell_type": "code",
   "execution_count": 22,
   "id": "158f55bd",
   "metadata": {},
   "outputs": [
    {
     "name": "stdout",
     "output_type": "stream",
     "text": [
      "this is a double quote: \"hello\" \n"
     ]
    }
   ],
   "source": [
    "print(\"this is a double quote: \\\"hello\\\" \")"
   ]
  },
  {
   "cell_type": "code",
   "execution_count": 23,
   "id": "6601009e",
   "metadata": {},
   "outputs": [
    {
     "name": "stdout",
     "output_type": "stream",
     "text": [
      "hello\b\n"
     ]
    }
   ],
   "source": [
    "print(\"hello\\b\")"
   ]
  },
  {
   "cell_type": "code",
   "execution_count": 24,
   "id": "86d597a2",
   "metadata": {},
   "outputs": [
    {
     "name": "stdout",
     "output_type": "stream",
     "text": [
      "86\n"
     ]
    }
   ],
   "source": [
    "my_string =\"0123456789\"\n",
    "print(my_string[-2:-6:-2])"
   ]
  },
  {
   "cell_type": "code",
   "execution_count": 25,
   "id": "d5e3e54f",
   "metadata": {},
   "outputs": [
    {
     "name": "stdout",
     "output_type": "stream",
     "text": [
      "5.0\n"
     ]
    }
   ],
   "source": [
    "x = 5\n",
    "x = float(x)\n",
    "print(x)"
   ]
  },
  {
   "cell_type": "code",
   "execution_count": 27,
   "id": "22075212",
   "metadata": {
    "scrolled": true
   },
   "outputs": [
    {
     "name": "stdout",
     "output_type": "stream",
     "text": [
      "5\n"
     ]
    }
   ],
   "source": [
    "x = 5.5\n",
    "x = int(x)\n",
    "print(x)"
   ]
  },
  {
   "cell_type": "code",
   "execution_count": 28,
   "id": "64cc4034",
   "metadata": {},
   "outputs": [
    {
     "name": "stdout",
     "output_type": "stream",
     "text": [
      "hello world\n"
     ]
    }
   ],
   "source": [
    "x = \"hello world\"\n",
    "print(x)"
   ]
  },
  {
   "cell_type": "code",
   "execution_count": 32,
   "id": "c952587a",
   "metadata": {},
   "outputs": [],
   "source": [
    "txt= \"hello world\"\n",
    "x = txt[0]"
   ]
  },
  {
   "cell_type": "code",
   "execution_count": 33,
   "id": "d8382f01",
   "metadata": {},
   "outputs": [],
   "source": [
    "x = txt[2:5]"
   ]
  },
  {
   "cell_type": "code",
   "execution_count": 35,
   "id": "0023d4c0",
   "metadata": {},
   "outputs": [
    {
     "name": "stdout",
     "output_type": "stream",
     "text": [
      "hello world\n"
     ]
    }
   ],
   "source": [
    "txt = \" hello world \"\n",
    "x = txt.strip()\n",
    "print(x)"
   ]
  },
  {
   "cell_type": "code",
   "execution_count": 39,
   "id": "f66bdbfa",
   "metadata": {},
   "outputs": [
    {
     "name": "stdout",
     "output_type": "stream",
     "text": [
      "Jello World\n"
     ]
    }
   ],
   "source": [
    "txt = \"Hello World\"\n",
    "x = txt.replace(\"H\",\"J\")\n",
    "print(x)"
   ]
  },
  {
   "cell_type": "code",
   "execution_count": 40,
   "id": "4f6216e1",
   "metadata": {},
   "outputs": [
    {
     "name": "stdout",
     "output_type": "stream",
     "text": [
      "my name is chris, and I am 36\n"
     ]
    }
   ],
   "source": [
    "age = 36\n",
    "txt = f\"my name is chris, and I am { age}\"\n",
    "print(txt)"
   ]
  },
  {
   "cell_type": "code",
   "execution_count": 41,
   "id": "d3703386",
   "metadata": {},
   "outputs": [
    {
     "name": "stdout",
     "output_type": "stream",
     "text": [
      "Twinkle, twinkle, little star,\n",
      "\tHow I wonder what you are!\n",
      "\t\tUp above the world so high,\n",
      "\t\tLike a diamond in the sky.\n",
      "Twinkle, twinkle, little star,\n",
      "\tHow I wonder what you are!\n"
     ]
    }
   ],
   "source": [
    "print(\"Twinkle, twinkle, little star,\")\n",
    "print(\"\\tHow I wonder what you are!\")\n",
    "print(\"\\t\\tUp above the world so high,\")\n",
    "print(\"\\t\\tLike a diamond in the sky.\")\n",
    "print(\"Twinkle, twinkle, little star,\")\n",
    "print(\"\\tHow I wonder what you are!\")\n"
   ]
  },
  {
   "cell_type": "code",
   "execution_count": 42,
   "id": "023b5a23",
   "metadata": {},
   "outputs": [
    {
     "name": "stdout",
     "output_type": "stream",
     "text": [
      "\n",
      "Twinkle, twinkle, little star,\n",
      "\tHow I wonder what you are!\n",
      "\t\tUp above the world so high,\n",
      "\t\tLike a diamond in the sky.\n",
      "Twinkle, twinkle, little star,\n",
      "\tHow I wonder what you are!\n",
      "\n"
     ]
    }
   ],
   "source": [
    "print(\"\"\"\n",
    "Twinkle, twinkle, little star,\n",
    "\\tHow I wonder what you are!\n",
    "\\t\\tUp above the world so high,\n",
    "\\t\\tLike a diamond in the sky.\n",
    "Twinkle, twinkle, little star,\n",
    "\\tHow I wonder what you are!\n",
    "\"\"\")\n"
   ]
  },
  {
   "cell_type": "code",
   "execution_count": 43,
   "id": "1de0fa21",
   "metadata": {},
   "outputs": [
    {
     "name": "stdout",
     "output_type": "stream",
     "text": [
      "Enter your first name: Mahmoud\n",
      "Enter your last name: Ayman\n",
      "Your name in reverse order is: Ayman Mahmoud\n"
     ]
    }
   ],
   "source": [
    "first_name = input(\"Enter your first name: \")\n",
    "last_name = input(\"Enter your last name: \")\n",
    "\n",
    "\n",
    "full_name_reverse = last_name + \" \" + first_name\n",
    "print(\"Your name in reverse order is:\", full_name_reverse)\n"
   ]
  },
  {
   "cell_type": "code",
   "execution_count": 44,
   "id": "0eacfea0",
   "metadata": {},
   "outputs": [
    {
     "name": "stdout",
     "output_type": "stream",
     "text": [
      "The area of the circle with radius 1.1 is: 3.7994000000000008\n"
     ]
    }
   ],
   "source": [
    "\n",
    "radius = 1.1\n",
    "\n",
    "\n",
    "pi = 3.14\n",
    "\n",
    "\n",
    "area = pi * (radius ** 2)\n",
    "\n",
    "# Print the result\n",
    "print(f\"The area of the circle with radius {radius} is: {area}\")\n"
   ]
  },
  {
   "cell_type": "code",
   "execution_count": 45,
   "id": "d8ea2f90",
   "metadata": {},
   "outputs": [
    {
     "name": "stdout",
     "output_type": "stream",
     "text": [
      "Enter a filename: dd.java\n",
      "The extension of the file is: java\n"
     ]
    }
   ],
   "source": [
    "\n",
    "filename = input(\"Enter a filename: \")\n",
    "\n",
    "\n",
    "name, extension = filename.split('.')\n",
    "\n",
    "\n",
    "print(f\"The extension of the file is: {extension}\")\n"
   ]
  },
  {
   "cell_type": "code",
   "execution_count": 46,
   "id": "b1957292",
   "metadata": {},
   "outputs": [
    {
     "name": "stdout",
     "output_type": "stream",
     "text": [
      "['a', 'm', 'i', 't']\n"
     ]
    }
   ],
   "source": [
    "value = \"amit\"\n",
    "list_value = list(value)\n",
    "print(list_value)\n"
   ]
  },
  {
   "cell_type": "code",
   "execution_count": 47,
   "id": "a3f61f88",
   "metadata": {},
   "outputs": [
    {
     "name": "stdout",
     "output_type": "stream",
     "text": [
      "('a', 'm', 'i', 't')\n"
     ]
    }
   ],
   "source": [
    "value = \"amit\"\n",
    "tuple_value = tuple(value)\n",
    "print(tuple_value)\n"
   ]
  },
  {
   "cell_type": "code",
   "execution_count": 48,
   "id": "4b50188b",
   "metadata": {},
   "outputs": [
    {
     "name": "stdout",
     "output_type": "stream",
     "text": [
      "amix\n"
     ]
    }
   ],
   "source": [
    "\n",
    "original_list = ['a', 'm', 'i', 't']\n",
    "\n",
    "\n",
    "original_list[3] = 'x'\n",
    "\n",
    "\n",
    "result_string = ''.join(original_list)\n",
    "\n",
    "\n",
    "print(result_string)\n"
   ]
  },
  {
   "cell_type": "code",
   "execution_count": 49,
   "id": "28e7f065",
   "metadata": {},
   "outputs": [
    {
     "name": "stdout",
     "output_type": "stream",
     "text": [
      "First color: Red\n",
      "Last color: Black\n"
     ]
    }
   ],
   "source": [
    "color_list = [\"Red\", \"Green\", \"White\", \"Black\"]\n",
    "\n",
    "\n",
    "print(\"First color:\", color_list[0])\n",
    "\n",
    "\n",
    "print(\"Last color:\", color_list[-1])\n"
   ]
  },
  {
   "cell_type": "code",
   "execution_count": 50,
   "id": "58ef5597",
   "metadata": {},
   "outputs": [
    {
     "name": "stdout",
     "output_type": "stream",
     "text": [
      "a string that you \"don't\" have to escape\n",
      "This\n",
      "is a ....... multi-line\n",
      "heredoc string --------> example\n"
     ]
    }
   ],
   "source": [
    "\n",
    "output_string = \"\"\"a string that you \"don't\" have to escape\n",
    "This\n",
    "is a ....... multi-line\n",
    "heredoc string --------> example\"\"\"\n",
    "\n",
    "\n",
    "print(output_string)\n"
   ]
  },
  {
   "cell_type": "code",
   "execution_count": 51,
   "id": "e4095617",
   "metadata": {},
   "outputs": [
    {
     "name": "stdout",
     "output_type": "stream",
     "text": [
      "The link starts with 'https'\n",
      "The email ends with '.com'\n"
     ]
    }
   ],
   "source": [
    "link = \"https://www.google.com/\"\n",
    "if link.startswith(\"https\"):\n",
    "    print(\"The link starts with 'https'\")\n",
    "else:\n",
    "    print(\"The link does not start with 'https'\")\n",
    "\n",
    "\n",
    "email = \"aim4536@gmail.com\"\n",
    "if email.endswith(\".com\"):\n",
    "    print(\"The email ends with '.com'\")\n",
    "else:\n",
    "    print(\"The email does not end with '.com'\")\n"
   ]
  },
  {
   "cell_type": "code",
   "execution_count": null,
   "id": "81aa7b34",
   "metadata": {},
   "outputs": [],
   "source": []
  }
 ],
 "metadata": {
  "kernelspec": {
   "display_name": "Python 3 (ipykernel)",
   "language": "python",
   "name": "python3"
  },
  "language_info": {
   "codemirror_mode": {
    "name": "ipython",
    "version": 3
   },
   "file_extension": ".py",
   "mimetype": "text/x-python",
   "name": "python",
   "nbconvert_exporter": "python",
   "pygments_lexer": "ipython3",
   "version": "3.11.5"
  }
 },
 "nbformat": 4,
 "nbformat_minor": 5
}
