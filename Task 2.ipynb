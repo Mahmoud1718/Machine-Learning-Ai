{
 "cells": [
  {
   "cell_type": "code",
   "execution_count": 5,
   "id": "cfb59f9e",
   "metadata": {},
   "outputs": [
    {
     "name": "stdout",
     "output_type": "stream",
     "text": [
      "1-type  <class 'list'>\n",
      "1-type of item =  <class 'int'>\n",
      "2-Use the index to get the value =  1\n",
      "3-change the value =  [5, 2, 3, 4, 'amit', 'learning', True, 5]\n",
      "4-a,duplicate data  [2, 2, 3, 4, 'amit', 'learning', True, 5]\n",
      "5-list in the list [2, 2, 3, 4, 'amit', [1, 2, 3, 5, 6, 9], True, 5]\n",
      "6-convert to list  ['a', 'm', 'i', 't']\n",
      "[('key1', 5), ('key2', 4)]\n"
     ]
    }
   ],
   "source": [
    "list_one = [1, 2, 3, 4, \"amit\", \"learning\", True, 5]\n",
    "\n",
    "\n",
    "print(\"1-type \", type(list_one))\n",
    "print(\"1-type of item = \", type(list_one[-1]))\n",
    "\n",
    "\n",
    "print(\"2-Use the index to get the value = \", list_one[0])\n",
    "\n",
    "\n",
    "list_one[0] = 5\n",
    "print(\"3-change the value = \", list_one)\n",
    "\n",
    "\n",
    "list_one[0] = 2  \n",
    "list_one[1] = 2\n",
    "print('4-a,duplicate data ', list_one)\n",
    "\n",
    "\n",
    "list_one[5] = [1, 2, 3, 5, 6, 9]\n",
    "print(\"5-list in the list\", list_one)\n",
    "\n",
    "\n",
    "y = list(\"amit\")\n",
    "print('6-convert to list ', y)\n",
    "\n",
    "\n",
    "x = {\"key1\": 5, \"key2\": 4}\n",
    "z = x.items()\n",
    "y = list(z)\n",
    "print(y)\n"
   ]
  },
  {
   "cell_type": "code",
   "execution_count": 9,
   "id": "5bffd0f0",
   "metadata": {},
   "outputs": [
    {
     "name": "stdout",
     "output_type": "stream",
     "text": [
      "[1, 2, 3, 4, 'amit', 'learning', True, 5, [2, 5, 6]]\n"
     ]
    }
   ],
   "source": [
    "list_one = [1, 2, 3, 4, \"amit\", \"learning\", True, 5]\n",
    "list_one.append([2,5,6])\n",
    "print(list_one)"
   ]
  },
  {
   "cell_type": "code",
   "execution_count": 11,
   "id": "cef137d3",
   "metadata": {},
   "outputs": [
    {
     "name": "stdout",
     "output_type": "stream",
     "text": [
      "[1, 2, 3, 4, 'amit', 'learning', True, 5, 2, 5, 6]\n"
     ]
    }
   ],
   "source": [
    "list_one = [1, 2, 3, 4, \"amit\", \"learning\", True, 5]\n",
    "list_one.extend([2,5,6])\n",
    "print(list_one)"
   ]
  },
  {
   "cell_type": "code",
   "execution_count": 12,
   "id": "252d15d9",
   "metadata": {},
   "outputs": [
    {
     "name": "stdout",
     "output_type": "stream",
     "text": [
      "['ml', 1, 2, 3, 4, 'amit', 'learning', True, 5]\n"
     ]
    }
   ],
   "source": [
    "list_one = [1, 2, 3, 4, \"amit\", \"learning\", True, 5]\n",
    "list_one.insert(0,\"ml\")\n",
    "print(list_one)"
   ]
  },
  {
   "cell_type": "code",
   "execution_count": 13,
   "id": "f271b62a",
   "metadata": {},
   "outputs": [
    {
     "name": "stdout",
     "output_type": "stream",
     "text": [
      "[1, 2, 3, 4, 'learning', True, 5]\n"
     ]
    }
   ],
   "source": [
    "list_one = [1, 2, 3, 4, \"amit\", \"learning\", True, 5]\n",
    "list_one.remove(\"amit\")\n",
    "print(list_one)"
   ]
  },
  {
   "cell_type": "code",
   "execution_count": 14,
   "id": "c108a4b1",
   "metadata": {},
   "outputs": [
    {
     "name": "stdout",
     "output_type": "stream",
     "text": [
      "[1, 2, 3, 4, 'amit', 'learning', True, 5]\n"
     ]
    }
   ],
   "source": [
    "list_one = [1, 2, 3, 4, \"amit\",\"amit\",\"learning\", True, 5]\n",
    "list_one.remove(\"amit\")\n",
    "print(list_one)"
   ]
  },
  {
   "cell_type": "code",
   "execution_count": 15,
   "id": "f9d41040",
   "metadata": {},
   "outputs": [
    {
     "name": "stdout",
     "output_type": "stream",
     "text": [
      "[2, 3, 4, 'amit', 'amit', 'learning', True, 5]\n"
     ]
    }
   ],
   "source": [
    "list_one = [1, 2, 3, 4, \"amit\",\"amit\",\"learning\", True, 5]\n",
    "list_one.pop(0)\n",
    "print(list_one)"
   ]
  },
  {
   "cell_type": "code",
   "execution_count": 18,
   "id": "8e3df923",
   "metadata": {},
   "outputs": [
    {
     "name": "stdout",
     "output_type": "stream",
     "text": [
      "before [1, 2, 3, 4, 'amit', 'amit', 'learning', True, 5]\n",
      "return 1\n",
      "after [2, 3, 4, 'amit', 'amit', 'learning', True, 5]\n"
     ]
    }
   ],
   "source": [
    "list_one = [1, 2, 3, 4, \"amit\",\"amit\",\"learning\", True, 5]\n",
    "print(\"before\",list_one)\n",
    "print(\"return\",list_one.pop(0))\n",
    "print(\"after\",list_one)"
   ]
  },
  {
   "cell_type": "code",
   "execution_count": 24,
   "id": "f45488e0",
   "metadata": {},
   "outputs": [
    {
     "name": "stdout",
     "output_type": "stream",
     "text": [
      "before [1, 2, 3, 4, 'amit', 'amit', 'learning', True, 5]\n",
      "after [2, 3, 4, 'amit', 'amit', 'learning', True, 5]\n"
     ]
    }
   ],
   "source": [
    "list_one = [1, 2, 3, 4, \"amit\",\"amit\",\"learning\", True, 5]\n",
    "print(\"before\",list_one)\n",
    "del list_one[0]\n",
    "print(\"after\",list_one)"
   ]
  },
  {
   "cell_type": "code",
   "execution_count": 37,
   "id": "5e42620f",
   "metadata": {},
   "outputs": [
    {
     "name": "stdout",
     "output_type": "stream",
     "text": [
      "before [1, 2, 3, 4, 'amit', 'learning', True, 5]\n",
      "Enter the value to remove: amit\n",
      "after [1, 2, 3, 4, 'learning', True, 5]\n"
     ]
    }
   ],
   "source": [
    "list_one = [1, 2, 3, 4, \"amit\", \"learning\", True, 5]\n",
    "\n",
    "print(\"before\", list_one)\n",
    "\n",
    "\n",
    "value_to_remove = input(\"Enter the value to remove: \")\n",
    "list_one.remove(value_to_remove)\n",
    "\n",
    "print(\"after\", list_one)"
   ]
  },
  {
   "cell_type": "code",
   "execution_count": 35,
   "id": "a0c0173d",
   "metadata": {},
   "outputs": [
    {
     "name": "stdout",
     "output_type": "stream",
     "text": [
      "index is 0\n",
      "count is 1\n",
      "sorted list: [1, 2, 3, 4, 5]\n",
      "reversed list: [5, 4, 3, 2, 1]\n",
      "cleared list: []\n"
     ]
    }
   ],
   "source": [
    "list_one = [1, 2, 3, 4, 5]\n",
    "\n",
    "\n",
    "index_value = list_one.index(1)\n",
    "print(\"index is\", index_value)\n",
    "\n",
    "\n",
    "count_value = list_one.count(2)\n",
    "print(\"count is\", count_value)\n",
    "\n",
    "\n",
    "list_one.sort()\n",
    "print(\"sorted list:\", list_one)\n",
    "\n",
    "\n",
    "list_one.reverse()\n",
    "print(\"reversed list:\", list_one)\n",
    "\n",
    "\n",
    "list_one.clear()\n",
    "print(\"cleared list:\", list_one)"
   ]
  },
  {
   "cell_type": "code",
   "execution_count": 36,
   "id": "459177b7",
   "metadata": {},
   "outputs": [
    {
     "name": "stdout",
     "output_type": "stream",
     "text": [
      "1-tuple <class 'tuple'>\n",
      "2-type use the index to get the value =  1\n",
      "allow duplicate data\n",
      "allow list in tuple\n",
      "convert to tuple ('a', 'm', 'i', 't')\n"
     ]
    }
   ],
   "source": [
    "tuple_one=(1,2,3,4,4,4,5,\"amit\",\"AI\")\n",
    "print(\"1-tuple\",type(tuple_one))\n",
    "print(\"2-type use the index to get the value = \",tuple_one[0])\n",
    "tuple_two=(1,1,1,1,1)\n",
    "print(\"allow duplicate data\")\n",
    "tuple_three=(1,2,3,1,[2,3,4])\n",
    "print(\"allow list in tuple\")\n",
    "y=tuple(\"amit\")\n",
    "print('convert to tuple',y)"
   ]
  },
  {
   "cell_type": "code",
   "execution_count": 43,
   "id": "66dfc304",
   "metadata": {},
   "outputs": [
    {
     "name": "stdout",
     "output_type": "stream",
     "text": [
      "1-type <class 'set'>\n",
      "does not allow duplicate data {'ai', 'ml'}\n",
      "convert to tuple {'m', 'i', 'a', 't'}\n"
     ]
    }
   ],
   "source": [
    "set_one={\"ml\",\"ai\"}\n",
    "print(\"1-type\",type(set_one))\n",
    "print(\"does not allow duplicate data\",set_one)\n",
    "y=set(\"amit\")\n",
    "print('convert to tuple' ,y)"
   ]
  },
  {
   "cell_type": "code",
   "execution_count": 46,
   "id": "69f14623",
   "metadata": {},
   "outputs": [
    {
     "name": "stdout",
     "output_type": "stream",
     "text": [
      "1-type = <class 'dict'>\n",
      "2-Use the key to get the value = 3\n",
      "3-Change the value = {1: 3, 2: 'learning', 3: 'learning', 'Key1': 5}\n",
      "4-allow duplicate data {1: 3, 2: 'learning', 3: 'learning', 'Key1': 5}\n",
      "5-list in the list {1: 3, 2: 'learning', 3: 'learning', 'Key1': [1, 2, 3, 4, 5, 6, 7]}\n",
      "6- Convert to tuple {'a': 1, 'b': 2, 'c': 3}\n"
     ]
    }
   ],
   "source": [
    "dic_one = {1: \"Mo\", 2: \"learning\", 3: \"learning\", True: 3, \"Key1\": 30}\n",
    "\n",
    "print(\"1-type =\", type(dic_one))\n",
    "\n",
    "print(\"2-Use the key to get the value =\", dic_one[True])\n",
    "\n",
    "dic_one[\"Key1\"] = 5\n",
    "\n",
    "print(\"3-Change the value =\", dic_one)\n",
    "\n",
    "\n",
    "print(\"4-allow duplicate data\", dic_one)\n",
    "\n",
    "\n",
    "dic_one[\"Key1\"] = [1, 2, 3, 4, 5, 6, 7]\n",
    "print(\"5-list in the list\", dic_one)\n",
    "\n",
    "\n",
    "y = dict([('a', 1), (\"b\", 2), ('c', 3)])\n",
    "print('6- Convert to tuple', y)\n"
   ]
  },
  {
   "cell_type": "code",
   "execution_count": 47,
   "id": "348de343",
   "metadata": {},
   "outputs": [
    {
     "name": "stdout",
     "output_type": "stream",
     "text": [
      "Enter the first number: 5\n",
      "Enter the second number: 6\n",
      "Addition: 11.0\n",
      "Subtraction: -1.0\n",
      "Multiplication: 30.0\n",
      "Division: 0.8333333333333334\n"
     ]
    }
   ],
   "source": [
    "    num1 = float(input(\"Enter the first number: \"))\n",
    "    num2 = float(input(\"Enter the second number: \"))\n",
    "\n",
    "    # Perform operations\n",
    "    addition = num1 + num2\n",
    "    subtraction = num1 - num2\n",
    "    multiplication = num1 * num2\n",
    "    division = num1 / num2\n",
    "\n",
    "    print(f\"Addition: {addition}\")\n",
    "    print(f\"Subtraction: {subtraction}\")\n",
    "    print(f\"Multiplication: {multiplication}\")\n",
    "    print(f\"Division: {division}\")\n",
    "\n"
   ]
  },
  {
   "cell_type": "code",
   "execution_count": 48,
   "id": "0eeba747",
   "metadata": {},
   "outputs": [
    {
     "name": "stdout",
     "output_type": "stream",
     "text": [
      "a is greater than b\n",
      "Both x and y are positive\n",
      "You are a child\n",
      "It's raining\n"
     ]
    }
   ],
   "source": [
    "a = 200\n",
    "b = 33\n",
    "if b > a:\n",
    "    print(\"b is greater than a\")\n",
    "else:\n",
    "    print(\"a is greater than b\")\n",
    "\n",
    "x = 5\n",
    "y = 10\n",
    "if x > 0 and y > 0:\n",
    "    print(\"Both x and y are positive\")\n",
    "\n",
    "age = 15\n",
    "if age < 18 or age > 65:\n",
    "    print(\"You are a child\")\n",
    "\n",
    "is_raining = True\n",
    "if not is_raining:\n",
    "    print(\"It's not raining. You can go outside\")\n",
    "else:\n",
    "    print(\"It's raining\")"
   ]
  },
  {
   "cell_type": "code",
   "execution_count": 49,
   "id": "9713398e",
   "metadata": {},
   "outputs": [
    {
     "name": "stdout",
     "output_type": "stream",
     "text": [
      "15\n",
      "Adult\n"
     ]
    }
   ],
   "source": [
    "a = 10\n",
    "b = 5\n",
    "print(a + b if a > b else a - b)\n",
    "\n",
    "age = 21\n",
    "print(\"Adult\") if age >= 18 else (print(\"Teenager\") if age >= 13 else print(\"Child\"))"
   ]
  },
  {
   "cell_type": "code",
   "execution_count": 50,
   "id": "b1c3c34a",
   "metadata": {},
   "outputs": [
    {
     "name": "stdout",
     "output_type": "stream",
     "text": [
      "It's a sunny day!\n",
      "The weather is cool\n",
      "5\n"
     ]
    }
   ],
   "source": [
    "is_sunny = False\n",
    "temp = 25\n",
    "\n",
    "if not is_sunny:\n",
    "    print(\"It's a sunny day!\")\n",
    "    if temp < 20:\n",
    "        print(\"The weather is warm\")\n",
    "    else:\n",
    "        print(\"The weather is cool\")\n",
    "else:\n",
    "    print(\"It's not a sunny day\")\n",
    "\n",
    "x = 5\n",
    "if (x == 5):\n",
    "    print(x)\n",
    "if (x != 5):\n",
    "    print(x)"
   ]
  },
  {
   "cell_type": "code",
   "execution_count": 53,
   "id": "95fefeb9",
   "metadata": {},
   "outputs": [
    {
     "name": "stdout",
     "output_type": "stream",
     "text": [
      "M\n",
      "a\n",
      "h\n",
      "m\n",
      "o\n",
      "u\n",
      "d\n"
     ]
    }
   ],
   "source": [
    "for x in \"Mahmoud\":\n",
    "    print(x)"
   ]
  },
  {
   "cell_type": "code",
   "execution_count": 55,
   "id": "260f2d56",
   "metadata": {},
   "outputs": [
    {
     "name": "stdout",
     "output_type": "stream",
     "text": [
      "pride\n",
      "greed\n",
      "wrath\n",
      "envy\n",
      "lust\n",
      "gluttony\n",
      "sloth\n"
     ]
    }
   ],
   "source": [
    "for x in [\"pride\",\"greed\",\"wrath\",\"envy\",\"lust\",\"gluttony\",\"sloth\"]:\n",
    "    print(x)"
   ]
  },
  {
   "cell_type": "code",
   "execution_count": 57,
   "id": "e4011edb",
   "metadata": {},
   "outputs": [
    {
     "name": "stdout",
     "output_type": "stream",
     "text": [
      "0\n",
      "1\n",
      "2\n",
      "3\n",
      "4\n",
      "5\n",
      "6\n",
      "7\n",
      "8\n",
      "9\n"
     ]
    }
   ],
   "source": [
    "for x in range(10):\n",
    "    print(x)"
   ]
  },
  {
   "cell_type": "code",
   "execution_count": 58,
   "id": "82e1468f",
   "metadata": {},
   "outputs": [
    {
     "name": "stdout",
     "output_type": "stream",
     "text": [
      "0\n",
      "1\n",
      "2\n",
      "4\n",
      "5\n",
      "6\n",
      "7\n",
      "8\n"
     ]
    }
   ],
   "source": [
    "for i in range(9):\n",
    "    if i == 3:\n",
    "        continue\n",
    "    print(i)"
   ]
  },
  {
   "cell_type": "code",
   "execution_count": 62,
   "id": "f3bd2692",
   "metadata": {},
   "outputs": [
    {
     "name": "stdout",
     "output_type": "stream",
     "text": [
      "0\n",
      "1\n",
      "2\n",
      "3\n"
     ]
    }
   ],
   "source": [
    "for i in range(9):\n",
    "    if i > 3:\n",
    "        break\n",
    "    print(i)"
   ]
  },
  {
   "cell_type": "code",
   "execution_count": 64,
   "id": "1dd81710",
   "metadata": {},
   "outputs": [],
   "source": [
    "for x in [0,1,2]:\n",
    "    pass"
   ]
  },
  {
   "cell_type": "code",
   "execution_count": null,
   "id": "b88670bb",
   "metadata": {},
   "outputs": [],
   "source": []
  }
 ],
 "metadata": {
  "kernelspec": {
   "display_name": "Python 3 (ipykernel)",
   "language": "python",
   "name": "python3"
  },
  "language_info": {
   "codemirror_mode": {
    "name": "ipython",
    "version": 3
   },
   "file_extension": ".py",
   "mimetype": "text/x-python",
   "name": "python",
   "nbconvert_exporter": "python",
   "pygments_lexer": "ipython3",
   "version": "3.11.5"
  }
 },
 "nbformat": 4,
 "nbformat_minor": 5
}
