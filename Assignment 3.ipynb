{
 "cells": [
  {
   "cell_type": "code",
   "execution_count": 2,
   "id": "fdced08d",
   "metadata": {},
   "outputs": [
    {
     "name": "stdout",
     "output_type": "stream",
     "text": [
      "50\n",
      "5.0\n",
      "True\n",
      "True\n",
      "True\n",
      "banana\n",
      "['kiwi', 'banana', 'orange']\n"
     ]
    }
   ],
   "source": [
    "# Multiply 10 with 5, and print the result\n",
    "print(10 * 5)\n",
    "\n",
    "# Divide 10 by 2, and print the result\n",
    "print(10 / 2)\n",
    "\n",
    "# Create a list of fruits\n",
    "fruits = [\"apple\", \"banana\", \"orange\"]\n",
    "\n",
    "# Use the in operator to check if \"apple\" is present in the fruits list\n",
    "print(\"apple\" in fruits)\n",
    "\n",
    "# Use the != operator to check if 5 is not equal to 10\n",
    "print(5 != 10)\n",
    "\n",
    "# Use the or operator to check if at least one of two statements is True\n",
    "print(True or False)\n",
    "\n",
    "# Print the second item in the fruits list\n",
    "print(fruits[1])\n",
    "\n",
    "# Change the value from \"apple\" to \"kiwi\" in the fruits list\n",
    "fruits[0] = \"kiwi\"\n",
    "print(fruits)"
   ]
  },
  {
   "cell_type": "code",
   "execution_count": 9,
   "id": "0c1368e5",
   "metadata": {},
   "outputs": [
    {
     "name": "stdout",
     "output_type": "stream",
     "text": [
      "['apple', 'banana', 'cherry', 'orange']\n",
      "['apple', 'lemon', 'banana', 'cherry', 'orange']\n",
      "['apple', 'lemon', 'cherry', 'orange']\n",
      "orange\n",
      "['cherry', 'orange']\n",
      "4\n",
      "386\n",
      "462\n",
      "418\n",
      "344\n",
      "236\n",
      "566\n",
      "978\n",
      "328\n",
      "162\n",
      "758\n",
      "918\n",
      "412\n",
      "566\n",
      "826\n",
      "248\n",
      "866\n",
      "950\n",
      "626\n",
      "104\n",
      "58\n",
      "512\n",
      "24\n",
      "892\n",
      "894\n",
      "742\n",
      "958\n"
     ]
    }
   ],
   "source": [
    "fruits = [\"apple\", \"banana\", \"cherry\"]\n",
    "\n",
    "# Add \"orange\" to the end of the list\n",
    "fruits.append(\"orange\")\n",
    "print(fruits)  \n",
    "\n",
    "# Add \"lemon\" as the second item in the list\n",
    "fruits.insert(1, \"lemon\")\n",
    "print(fruits)  \n",
    "\n",
    "# Remove \"banana\" from the list\n",
    "fruits.remove(\"banana\")\n",
    "print(fruits)  \n",
    "\n",
    "# Print the last item in the list\n",
    "print(fruits[-1]) \n",
    "\n",
    "# Print the third, fourth, and fifth items in the list\n",
    "print(fruits[2:5])  \n",
    "\n",
    "# Print the number of items in the list\n",
    "print(len(fruits))  \n",
    "\n",
    "# Given list of numbers\n",
    "numbers = [386, 462, 47, 418, 907, 344, 236, 375, 823, 566, 597, 978, 328, 615, 953, 345,\n",
    "           399, 162, 758, 219, 918, 37, 412, 566, 826, 248, 866, 950, 626, 949, 687, 217,\n",
    "           815, 67, 104, 58, 512, 24, 892, 894, 767, 553, 81, 379, 843, 831, 445, 742, 717,\n",
    "           958, 743]\n",
    "\n",
    "# Iterate through the list and print even numbers until 237 is encountered\n",
    "for number in numbers:\n",
    "    if number == 237:\n",
    "        break\n",
    "    if number % 2 == 0:\n",
    "        print(number)"
   ]
  },
  {
   "cell_type": "code",
   "execution_count": 10,
   "id": "521889be",
   "metadata": {},
   "outputs": [
    {
     "name": "stdout",
     "output_type": "stream",
     "text": [
      "Enter the base of the triangle: 5\n",
      "Enter the height of the triangle: 8\n",
      "The area of the triangle is 20.0\n"
     ]
    }
   ],
   "source": [
    "# Get the base and height of the triangle from the user\n",
    "base = float(input(\"Enter the base of the triangle: \"))\n",
    "height = float(input(\"Enter the height of the triangle: \"))\n",
    "\n",
    "# Calculate the area of the triangle using the formula (1/2) * base * height\n",
    "area = 0.5 * base * height\n",
    "\n",
    "# Print the area of the triangle\n",
    "print(\"The area of the triangle is\", area)"
   ]
  },
  {
   "cell_type": "code",
   "execution_count": 11,
   "id": "6ec15245",
   "metadata": {},
   "outputs": [
    {
     "name": "stdout",
     "output_type": "stream",
     "text": [
      "Enter the first integer: 5\n",
      "Enter the second integer: 2\n",
      "Enter the third integer: 9\n",
      "The sorted numbers are: 2 5 9\n"
     ]
    }
   ],
   "source": [
    "def sort_three(a, b, c):\n",
    "  \"\"\"Sorts three integers without using conditional statements or loops.\n",
    "\n",
    "  Args:\n",
    "    a: The first integer.\n",
    "    b: The second integer.\n",
    "    c: The third integer.\n",
    "\n",
    "  Returns:\n",
    "    A tuple containing the three integers in sorted order.\n",
    "  \"\"\"\n",
    "  # Calculate the maximum and minimum of the three numbers\n",
    "  max_number = max(a, b, c)\n",
    "  min_number = min(a, b, c)\n",
    "\n",
    "  # Calculate the middle number by subtracting the max and min from the sum of all three numbers\n",
    "  middle_number = (a + b + c) - max_number - min_number\n",
    "\n",
    "  # Return the numbers in sorted order (min, middle, max)\n",
    "  return min_number, middle_number, max_number\n",
    "\n",
    "# Get the three integers from the user\n",
    "a = int(input(\"Enter the first integer: \"))\n",
    "b = int(input(\"Enter the second integer: \"))\n",
    "c = int(input(\"Enter the third integer: \"))\n",
    "\n",
    "# Sort the integers and print the result\n",
    "sorted_a, sorted_b, sorted_c = sort_three(a, b, c)\n",
    "print(\"The sorted numbers are:\", sorted_a, sorted_b, sorted_c)"
   ]
  },
  {
   "cell_type": "code",
   "execution_count": 12,
   "id": "dea2697d",
   "metadata": {},
   "outputs": [
    {
     "name": "stdout",
     "output_type": "stream",
     "text": [
      "Enter a number (or 'x' to finish): 1\n",
      "Enter a number (or 'x' to finish): 5\n",
      "Enter a number (or 'x' to finish): 2\n",
      "Enter a number (or 'x' to finish): x\n",
      "The list does not contain any duplicate numbers.\n"
     ]
    }
   ],
   "source": [
    "user_list = []\n",
    "while True:\n",
    "  number = input(\"Enter a number (or 'x' to finish): \")\n",
    "  if number.lower() == 'x':\n",
    "    break\n",
    "  user_list.append(int(number))\n",
    "\n",
    "# Convert the list to a set to remove duplicates automatically\n",
    "unique_elements = set(user_list)\n",
    "\n",
    "# Compare the length of the list and the set. If they differ, there are duplicates.\n",
    "if len(user_list) == len(unique_elements):\n",
    "  print(\"The list does not contain any duplicate numbers.\")\n",
    "else:\n",
    "  print(\"The list contains duplicate numbers.\")"
   ]
  },
  {
   "cell_type": "code",
   "execution_count": 13,
   "id": "b2b273c8",
   "metadata": {},
   "outputs": [
    {
     "name": "stdout",
     "output_type": "stream",
     "text": [
      "Enter a number (or 'x' to finish): 1\n",
      "Enter a number (or 'x' to finish): 1\n",
      "Enter a number (or 'x' to finish): 3\n",
      "Enter a number (or 'x' to finish): x\n",
      "The list contains duplicate numbers.\n"
     ]
    }
   ],
   "source": [
    "user_list = []\n",
    "while True:\n",
    "  number = input(\"Enter a number (or 'x' to finish): \")\n",
    "  if number.lower() == 'x':\n",
    "    break\n",
    "  user_list.append(int(number))\n",
    "\n",
    "# Convert the list to a set to remove duplicates automatically\n",
    "unique_elements = set(user_list)\n",
    "\n",
    "# Compare the length of the list and the set. If they differ, there are duplicates.\n",
    "if len(user_list) == len(unique_elements):\n",
    "  print(\"The list does not contain any duplicate numbers.\")\n",
    "else:\n",
    "  print(\"The list contains duplicate numbers.\")"
   ]
  },
  {
   "cell_type": "code",
   "execution_count": 14,
   "id": "97deeb91",
   "metadata": {},
   "outputs": [
    {
     "name": "stdout",
     "output_type": "stream",
     "text": [
      "Enter numbers separated by commas (or 'q' to quit): 5,2,a,w\n",
      "Invalid input. Please enter valid numbers separated by commas.\n",
      "Enter numbers separated by commas (or 'q' to quit): 5,2,3,3,2\n",
      "Duplicates found\n",
      "Enter numbers separated by commas (or 'q' to quit): q\n"
     ]
    }
   ],
   "source": [
    "while True:\n",
    "  numbers_str = input(\"Enter numbers separated by commas (or 'q' to quit): \")\n",
    "  if numbers_str.lower() == 'q':\n",
    "    break\n",
    "\n",
    "  try:\n",
    "    # Split input string and convert to a set of integers\n",
    "    numbers = set(int(num.strip()) for num in numbers_str.split(\",\"))\n",
    "\n",
    "    # Print result based on set size\n",
    "    if len(numbers) == len(numbers_str.split(\",\")):\n",
    "      print(\"No duplicates found\")\n",
    "    else:\n",
    "      print(\"Duplicates found\")\n",
    "  except ValueError:\n",
    "    print(\"Invalid input. Please enter valid numbers separated by commas.\")"
   ]
  },
  {
   "cell_type": "code",
   "execution_count": 15,
   "id": "1edc2123",
   "metadata": {},
   "outputs": [
    {
     "name": "stdout",
     "output_type": "stream",
     "text": [
      "Value 'Apple' exists in the dictionary.\n"
     ]
    }
   ],
   "source": [
    "mydict = {1: \"Apple\", 0: \"Orange\"}\n",
    "target_value = \"Apple\"\n",
    "\n",
    "# Use list comprehension and 'in' operator for efficiency\n",
    "values = [value for value in mydict.values()]\n",
    "has_value = any(target_value in value for value in values)\n",
    "\n",
    "if has_value:\n",
    "    print(f\"Value '{target_value}' exists in the dictionary.\")\n",
    "else:\n",
    "    print(f\"Value '{target_value}' not found in the dictionary.\")"
   ]
  },
  {
   "cell_type": "code",
   "execution_count": 16,
   "id": "1bd86f3d",
   "metadata": {},
   "outputs": [
    {
     "name": "stdout",
     "output_type": "stream",
     "text": [
      "No values are more than twice the input value.\n"
     ]
    }
   ],
   "source": [
    "mydict = {1: 20, 0: 15}\n",
    "input_value = 10\n",
    "\n",
    "# Use list comprehension and conditional expression\n",
    "values = [value for value in mydict.values() if type(value) is int]\n",
    "has_matching_value = any(value > input_value * 2 for value in values)\n",
    "\n",
    "if has_matching_value:\n",
    "    print(\"At least one value is more than twice the input value.\")\n",
    "else:\n",
    "    print(\"No values are more than twice the input value.\")"
   ]
  },
  {
   "cell_type": "code",
   "execution_count": 17,
   "id": "b37e3bd6",
   "metadata": {},
   "outputs": [
    {
     "name": "stdout",
     "output_type": "stream",
     "text": [
      "[(10, 20, 100), (40, 50, 100), (70, 80, 100)]\n"
     ]
    }
   ],
   "source": [
    "list_of_tuples = [(10, 20, 30), (40, 50, 60), (70, 80, 90)]\n",
    "new_value = 100\n",
    "\n",
    "# Iterate through the list and change the last element of each tuple\n",
    "for i in range(len(list_of_tuples)):\n",
    "  list_of_tuples[i] = list_of_tuples[i][:-1] + (new_value,)\n",
    "\n",
    "print(list_of_tuples)  # Output: [(10, 20, 100), (40, 50, 100), (70, 80, 100)]"
   ]
  },
  {
   "cell_type": "code",
   "execution_count": 18,
   "id": "51a5a962",
   "metadata": {},
   "outputs": [
    {
     "name": "stdout",
     "output_type": "stream",
     "text": [
      "[(10, 20, 100), (40, 50, 100), (70, 80, 100)]\n"
     ]
    }
   ],
   "source": [
    "list_of_tuples = [(10, 20, 30), (40, 50, 60), (70, 80, 90)]\n",
    "new_value = 100\n",
    "\n",
    "new_list = [(t[0:-1] + (new_value,)) for t in list_of_tuples]\n",
    "\n",
    "print(new_list)  # Output: [(10, 20, 100), (40, 50, 100), (70, 80, 100)]"
   ]
  },
  {
   "cell_type": "code",
   "execution_count": 19,
   "id": "ab58a822",
   "metadata": {},
   "outputs": [
    {
     "name": "stdout",
     "output_type": "stream",
     "text": [
      "[(10, 20, 100), (40, 50, 100), (70, 80, 100)]\n"
     ]
    }
   ],
   "source": [
    "list_of_tuples = [(10, 20, 30), (40, 50, 60), (70, 80, 90)]\n",
    "new_value = 100\n",
    "\n",
    "new_list = list(map(lambda t: (*t[:-1], new_value), list_of_tuples))\n",
    "\n",
    "print(new_list)  # Output: [(10, 20, 100), (40, 50, 100), (70, 80, 100)]"
   ]
  },
  {
   "cell_type": "code",
   "execution_count": 1,
   "id": "0c879657",
   "metadata": {},
   "outputs": [
    {
     "name": "stdout",
     "output_type": "stream",
     "text": [
      "50\n",
      "5.0\n",
      "True\n",
      "True\n",
      "True\n",
      "banana\n",
      "['kiwi', 'banana', 'orange']\n",
      "['kiwi', 'banana', 'orange', 'orange']\n",
      "['kiwi', 'lemon', 'banana', 'orange', 'orange']\n",
      "['kiwi', 'lemon', 'orange', 'orange']\n",
      "orange\n",
      "['orange', 'orange']\n",
      "4\n",
      "386\n",
      "462\n",
      "418\n",
      "344\n",
      "236\n",
      "566\n",
      "978\n",
      "328\n",
      "162\n",
      "758\n",
      "918\n",
      "Enter the base of the triangle: 5\n",
      "Enter the height of the triangle: 3\n",
      "The area of the triangle is: 7.5\n",
      "[2, 5, 8]\n",
      "2 5 8\n",
      "True\n",
      "False\n",
      "600\n",
      "[(10, 20, 100), (40, 50, 100), (70, 80, 100)]\n"
     ]
    }
   ],
   "source": [
    "# Multiply 10 with 5, and print the result.\n",
    "result_multiply = 10 * 5\n",
    "print(result_multiply)\n",
    "\n",
    "# Divide 10 by 2, and print the result.\n",
    "result_divide = 10 / 2\n",
    "print(result_divide)\n",
    "\n",
    "# Use the correct membership operator to check if \"apple\" is present in the fruits object.\n",
    "fruits = [\"apple\", \"banana\", \"orange\"]\n",
    "print(\"apple\" in fruits)\n",
    "\n",
    "# Use the correct comparison operator to check if 5 is not equal to 10.\n",
    "print(5 != 10)\n",
    "\n",
    "# Use the correct logical operator to check if at least one of two statements is True.\n",
    "statement1 = True\n",
    "statement2 = False\n",
    "print(statement1 or statement2)\n",
    "\n",
    "# Print the second item in the fruits list.\n",
    "print(fruits[1])\n",
    "\n",
    "# Change the value from \"apple\" to \"kiwi\" in the fruits list.\n",
    "fruits[0] = \"kiwi\"\n",
    "print(fruits)\n",
    "\n",
    "# Use the append method to add \"orange\" to the fruits list.\n",
    "fruits.append(\"orange\")\n",
    "print(fruits)\n",
    "\n",
    "# Use the insert method to add \"lemon\" as the second item in the fruits list.\n",
    "fruits.insert(1, \"lemon\")\n",
    "print(fruits)\n",
    "\n",
    "# Use the remove method to remove \"banana\" from the fruits list.\n",
    "fruits.remove(\"banana\")\n",
    "print(fruits)\n",
    "\n",
    "# Use negative indexing to print the last item in the list.\n",
    "print(fruits[-1])\n",
    "\n",
    "# Use a range of indexes to print the third, fourth, and fifth item in the list.\n",
    "print(fruits[2:5])\n",
    "\n",
    "# Use the correct syntax to print the number of items in the list.\n",
    "print(len(fruits))\n",
    "\n",
    "# Python program to print all even numbers from a given list of numbers in the same order and stop printing any after 237 in the sequence.\n",
    "numbers = [\n",
    "    386, 462, 47, 418, 907, 344, 236, 375, 823, 566, 597, 978, 328, 615, 953, 345,\n",
    "    399, 162, 758, 219, 918, 237, 412, 566, 826, 248, 866, 950, 626, 949, 687, 217,\n",
    "    815, 67, 104, 58, 512, 24, 892, 894, 767, 553, 81, 379, 843, 831, 445, 742, 717,\n",
    "    958, 743, 527\n",
    "]\n",
    "\n",
    "for number in numbers:\n",
    "    if number == 237:\n",
    "        break\n",
    "    elif number % 2 == 0:\n",
    "        print(number)\n",
    "\n",
    "# Python program that will accept the base and height of a triangle and compute its area.\n",
    "base = float(input(\"Enter the base of the triangle: \"))\n",
    "height = float(input(\"Enter the height of the triangle: \"))\n",
    "area = 0.5 * base * height\n",
    "print(f\"The area of the triangle is: {area}\")\n",
    "\n",
    "# Sort three integers without using conditional statements\n",
    "integers = [5, 2, 8]\n",
    "sorted_integers = sorted(integers)\n",
    "print(sorted_integers)\n",
    "\n",
    "# Sort three integers using conditional statements\n",
    "a, b, c = 5, 2, 8\n",
    "if a <= b <= c:\n",
    "    sorted_a, sorted_b, sorted_c = a, b, c\n",
    "elif a <= c <= b:\n",
    "    sorted_a, sorted_b, sorted_c = a, c, b\n",
    "elif b <= a <= c:\n",
    "    sorted_a, sorted_b, sorted_c = b, a, c\n",
    "elif b <= c <= a:\n",
    "    sorted_a, sorted_b, sorted_c = b, c, a\n",
    "elif c <= a <= b:\n",
    "    sorted_a, sorted_b, sorted_c = c, a, b\n",
    "else:\n",
    "    sorted_a, sorted_b, sorted_c = c, b, a\n",
    "\n",
    "print(sorted_a, sorted_b, sorted_c)\n",
    "\n",
    "# Write a Python function that takes a sequence of numbers and determines whether all the numbers are different from each other.\n",
    "def are_all_different(numbers):\n",
    "    return len(numbers) == len(set(numbers))\n",
    "\n",
    "# Test the function\n",
    "sequence1 = [1, 2, 3, 4, 5]\n",
    "sequence2 = [1, 2, 3, 4, 4]\n",
    "print(are_all_different(sequence1))  # True\n",
    "print(are_all_different(sequence2))  # False\n",
    "\n",
    "# Dictionary\n",
    "dict1 = {'a': 100, 'b': 200, 'c': 300}\n",
    "print(sum(dict1.values()))\n",
    "\n",
    "# Write a Python program to replace the last value of tuples in a list.\n",
    "tuple_list = [(10, 20, 40), (40, 50, 60), (70, 80, 90)]\n",
    "modified_list = [t[:-1] + (100,) for t in tuple_list]\n",
    "print(modified_list)"
   ]
  },
  {
   "cell_type": "code",
   "execution_count": null,
   "id": "f45a54d6",
   "metadata": {},
   "outputs": [],
   "source": []
  }
 ],
 "metadata": {
  "kernelspec": {
   "display_name": "Python 3 (ipykernel)",
   "language": "python",
   "name": "python3"
  },
  "language_info": {
   "codemirror_mode": {
    "name": "ipython",
    "version": 3
   },
   "file_extension": ".py",
   "mimetype": "text/x-python",
   "name": "python",
   "nbconvert_exporter": "python",
   "pygments_lexer": "ipython3",
   "version": "3.11.5"
  }
 },
 "nbformat": 4,
 "nbformat_minor": 5
}
