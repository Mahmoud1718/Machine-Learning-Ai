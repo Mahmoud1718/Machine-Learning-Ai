{
 "cells": [
  {
   "cell_type": "code",
   "execution_count": 5,
   "id": "da0be1a1",
   "metadata": {},
   "outputs": [
    {
     "name": "stdout",
     "output_type": "stream",
     "text": [
      "Maximum: 10\n",
      "Maximum: 15\n",
      "Negative\n",
      "Odd\n",
      "Leap year\n",
      "Wednesday\n",
      "a b c d e f g h i j k l m n o p q r s t u v w x y z Original List: [1, 2, 3, 4, 5]\n",
      "Reversed List: [5, 4, 3, 2, 1]\n",
      "7 x 1 = 7\n",
      "7 x 2 = 14\n",
      "7 x 3 = 21\n",
      "7 x 4 = 28\n",
      "7 x 5 = 35\n",
      "7 x 6 = 42\n",
      "7 x 7 = 49\n",
      "7 x 8 = 56\n",
      "7 x 9 = 63\n",
      "7 x 10 = 70\n",
      "2 4 6 8 10 12 14 16 18 20 22 24 26 28 30 32 34 36 38 40 42 44 46 48 50 52 54 56 58 60 62 64 66 68 70 72 74 76 78 80 82 84 86 88 90 92 94 96 98 100 "
     ]
    }
   ],
   "source": [
    "### 1) Maximum between two numbers:\n",
    "a = 5\n",
    "b = 10\n",
    "print(\"Maximum:\", a if a > b else b)\n",
    "\n",
    "### 2) Maximum between three numbers:\n",
    "a = 8\n",
    "b = 15\n",
    "c = 12\n",
    "print(\"Maximum:\", max(a, b, c))\n",
    "\n",
    "### 3) Check whether a number is negative or positive:\n",
    "num = -5 \n",
    "print(\"Negative\" if num < 0 else \"Positive\")\n",
    "\n",
    "### 4) Check whether a number is even or odd:\n",
    "num = 7  \n",
    "print(\"Even\" if num % 2 == 0 else \"Odd\")\n",
    "\n",
    "### 5) Check whether a year is a leap year or not:\n",
    "year = 2024 \n",
    "print(\"Leap year\" if (year % 4 == 0 and year % 100 != 0) or (year % 400 == 0) else \"Not a leap year\")\n",
    "\n",
    "### 6) Store weekdays in a list, access and print by index:\n",
    "weekdays = [\"Monday\", \"Tuesday\", \"Wednesday\", \"Thursday\", \"Friday\", \"Saturday\", \"Sunday\"]\n",
    "index = 2  # Change this to the desired index\n",
    "print(weekdays[index])\n",
    "\n",
    "### 7) Print all alphabets from a to z using while loop:\n",
    "char = 'a'\n",
    "while char <= 'z':\n",
    "    print(char, end=\" \")\n",
    "    char = chr(ord(char) + 1)\n",
    "\n",
    "### 8) Store numbers in a list and print its reverse:\n",
    "numbers = [1, 2, 3, 4, 5]\n",
    "print(\"Original List:\", numbers)\n",
    "print(\"Reversed List:\", numbers[::-1])\n",
    "\n",
    "### 9) Print the multiplication table of any number:\n",
    "num = 7  # Change this to the desired number\n",
    "for i in range(1, 11):\n",
    "    print(f\"{num} x {i} = {num * i}\")\n",
    "\n",
    "### 10) Print all even numbers between 1 to 100 using a while loop:\n",
    "num = 2\n",
    "while num <= 100:\n",
    "    print(num, end=\" \")\n",
    "    num += 2"
   ]
  },
  {
   "cell_type": "code",
   "execution_count": null,
   "id": "6e2af4df",
   "metadata": {},
   "outputs": [],
   "source": []
  }
 ],
 "metadata": {
  "kernelspec": {
   "display_name": "Python 3 (ipykernel)",
   "language": "python",
   "name": "python3"
  },
  "language_info": {
   "codemirror_mode": {
    "name": "ipython",
    "version": 3
   },
   "file_extension": ".py",
   "mimetype": "text/x-python",
   "name": "python",
   "nbconvert_exporter": "python",
   "pygments_lexer": "ipython3",
   "version": "3.11.5"
  }
 },
 "nbformat": 4,
 "nbformat_minor": 5
}
