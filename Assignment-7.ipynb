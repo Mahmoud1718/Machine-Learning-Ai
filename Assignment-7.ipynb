{
 "cells": [
  {
   "cell_type": "code",
   "execution_count": 1,
   "metadata": {},
   "outputs": [
    {
     "name": "stdout",
     "output_type": "stream",
     "text": [
      "One-dimensional array-like object:\n",
      "0    78\n",
      "1    85\n",
      "2    96\n",
      "3    80\n",
      "4    86\n",
      "dtype: int64\n"
     ]
    }
   ],
   "source": [
    "import pandas as pd\n",
    "\n",
    "data = [78, 85, 96, 80, 86]\n",
    "series = pd.Series(data)\n",
    "print(\"One-dimensional array-like object:\")\n",
    "print(series)"
   ]
  },
  {
   "cell_type": "code",
   "execution_count": 2,
   "metadata": {},
   "outputs": [
    {
     "name": "stdout",
     "output_type": "stream",
     "text": [
      "Python list: [78, 85, 96, 80, 86]\n",
      "Type of the list: <class 'list'>\n"
     ]
    }
   ],
   "source": [
    "import pandas as pd\n",
    "\n",
    "data = [78, 85, 96, 80, 86]\n",
    "series = pd.Series(data)\n",
    "\n",
    "python_list = series.tolist()\n",
    "\n",
    "print(\"Python list:\", python_list)\n",
    "print(\"Type of the list:\", type(python_list))"
   ]
  },
  {
   "cell_type": "code",
   "execution_count": 3,
   "metadata": {},
   "outputs": [
    {
     "name": "stdout",
     "output_type": "stream",
     "text": [
      "Comparison of elements:\n",
      "0    False\n",
      "1    False\n",
      "2    False\n",
      "3    False\n",
      "4     True\n",
      "dtype: bool\n"
     ]
    }
   ],
   "source": [
    "import pandas as pd\n",
    "\n",
    "data1 = [78, 85, 96, 80, 86]\n",
    "data2 = [84, 94, 89, 83, 86]\n",
    "\n",
    "series1 = pd.Series(data1)\n",
    "series2 = pd.Series(data2)\n",
    "\n",
    "comparison = series1 == series2\n",
    "print(\"Comparison of elements:\")\n",
    "print(comparison)"
   ]
  },
  {
   "cell_type": "code",
   "execution_count": 4,
   "metadata": {},
   "outputs": [
    {
     "name": "stdout",
     "output_type": "stream",
     "text": [
      "DataFrame with changed data type:\n",
      "      X   Y   Z\n",
      "0  78.0  84  86\n",
      "1  85.0  94  97\n",
      "2  96.0  89  96\n",
      "3  80.0  83  72\n",
      "4  86.0  86  83\n"
     ]
    }
   ],
   "source": [
    "import pandas as pd\n",
    "\n",
    "data = {'X': [78, 85, 96, 80, 86], 'Y': [84, 94, 89, 83, 86], 'Z': [86, 97, 96, 72, 83]}\n",
    "df = pd.DataFrame(data)\n",
    "\n",
    "df['X'] = df['X'].astype(float)\n",
    "\n",
    "print(\"DataFrame with changed data type:\")\n",
    "print(df)"
   ]
  },
  {
   "cell_type": "code",
   "execution_count": 5,
   "metadata": {},
   "outputs": [
    {
     "name": "stdout",
     "output_type": "stream",
     "text": [
      "DataFrame with powers:\n",
      "      X     Y     Z\n",
      "0  6084  7056  7396\n",
      "1  7225  8836  9409\n",
      "2  9216  7921  9216\n",
      "3  6400  6889  5184\n",
      "4  7396  7396  6889\n"
     ]
    }
   ],
   "source": [
    "import pandas as pd\n",
    "\n",
    "data = {'X': [78, 85, 96, 80, 86], 'Y': [84, 94, 89, 83, 86], 'Z': [86, 97, 96, 72, 83]}\n",
    "df = pd.DataFrame(data)\n",
    "\n",
    "df_power = df.apply(lambda x: x ** 2)\n",
    "\n",
    "print(\"DataFrame with powers:\")\n",
    "print(df_power)"
   ]
  },
  {
   "cell_type": "code",
   "execution_count": 6,
   "metadata": {},
   "outputs": [
    {
     "name": "stdout",
     "output_type": "stream",
     "text": [
      "First three rows of the data frame:\n",
      "        name  score  attempts qualify\n",
      "a  Anastasia   12.5         1     yes\n",
      "b       Dima    9.0         3      no\n",
      "c  Katherine   16.5         2     yes\n"
     ]
    }
   ],
   "source": [
    "import pandas as pd\n",
    "import numpy as np\n",
    "\n",
    "exam_data = {\n",
    "    'name': ['Anastasia', 'Dima', 'Katherine', 'James', 'Emily', 'Michael', 'Matthew', 'Laura', 'Kevin', 'Jonas'],\n",
    "    'score': [12.5, 9, 16.5, np.nan, 9, 20, 14.5, np.nan, 8, 19],\n",
    "    'attempts': [1, 3, 2, 3, 2, 3, 1, 1, 2, 1],\n",
    "    'qualify': ['yes', 'no', 'yes', 'no', 'no', 'yes', 'yes', 'no', 'no', 'yes']\n",
    "}\n",
    "\n",
    "labels = ['a', 'b', 'c', 'd', 'e', 'f', 'g', 'h', 'i', 'j']\n",
    "\n",
    "df = pd.DataFrame(exam_data, index=labels)\n",
    "\n",
    "# Get the first 3 rows\n",
    "first_3_rows = df.head(3)\n",
    "\n",
    "# Display the result\n",
    "print(\"First three rows of the data frame:\")\n",
    "print(first_3_rows)"
   ]
  },
  {
   "cell_type": "code",
   "execution_count": null,
   "metadata": {},
   "outputs": [],
   "source": []
  }
 ],
 "metadata": {
  "kernelspec": {
   "display_name": "base",
   "language": "python",
   "name": "python3"
  },
  "language_info": {
   "codemirror_mode": {
    "name": "ipython",
    "version": 3
   },
   "file_extension": ".py",
   "mimetype": "text/x-python",
   "name": "python",
   "nbconvert_exporter": "python",
   "pygments_lexer": "ipython3",
   "version": "3.11.5"
  }
 },
 "nbformat": 4,
 "nbformat_minor": 2
}
