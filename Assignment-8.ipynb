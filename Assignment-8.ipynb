{
 "cells": [
  {
   "cell_type": "code",
   "execution_count": 1,
   "metadata": {},
   "outputs": [
    {
     "name": "stdout",
     "output_type": "stream",
     "text": [
      "One-dimensional array-like object:\n",
      "0    78\n",
      "1    85\n",
      "2    96\n",
      "3    80\n",
      "4    86\n",
      "dtype: int64\n"
     ]
    }
   ],
   "source": [
    "import pandas as pd\n",
    "\n",
    "data = [78, 85, 96, 80, 86]\n",
    "series = pd.Series(data)\n",
    "print(\"One-dimensional array-like object:\")\n",
    "print(series)"
   ]
  },
  {
   "cell_type": "code",
   "execution_count": 2,
   "metadata": {},
   "outputs": [
    {
     "name": "stdout",
     "output_type": "stream",
     "text": [
      "Python list:\n",
      "[78, 85, 96, 80, 86]\n",
      "Type of the Python list:\n",
      "<class 'list'>\n"
     ]
    }
   ],
   "source": [
    "import pandas as pd\n",
    "\n",
    "data = [78, 85, 96, 80, 86]\n",
    "series = pd.Series(data)\n",
    "python_list = series.tolist()\n",
    "print(\"Python list:\")\n",
    "print(python_list)\n",
    "print(\"Type of the Python list:\")\n",
    "print(type(python_list))"
   ]
  },
  {
   "cell_type": "code",
   "execution_count": 3,
   "metadata": {},
   "outputs": [
    {
     "name": "stdout",
     "output_type": "stream",
     "text": [
      "Comparison of the elements of the two Pandas Series:\n",
      "0    False\n",
      "1    False\n",
      "2    False\n",
      "3    False\n",
      "4     True\n",
      "dtype: bool\n"
     ]
    }
   ],
   "source": [
    "import pandas as pd\n",
    "\n",
    "data1 = pd.Series([78, 85, 96, 80, 86])\n",
    "data2 = pd.Series([84, 94, 89, 83, 86])\n",
    "\n",
    "comparison = data1 == data2\n",
    "print(\"Comparison of the elements of the two Pandas Series:\")\n",
    "print(comparison)"
   ]
  },
  {
   "cell_type": "code",
   "execution_count": 4,
   "metadata": {},
   "outputs": [
    {
     "name": "stdout",
     "output_type": "stream",
     "text": [
      "DataFrame with changed data type:\n",
      "   A    B\n",
      "0  1  4.0\n",
      "1  2  5.0\n",
      "2  3  6.0\n"
     ]
    }
   ],
   "source": [
    "import pandas as pd\n",
    "\n",
    "data = {'A': [1, 2, 3], 'B': [4, 5, 6]}\n",
    "df = pd.DataFrame(data)\n",
    "\n",
    "df['B'] = df['B'].astype(float)\n",
    "print(\"DataFrame with changed data type:\")\n",
    "print(df)"
   ]
  },
  {
   "cell_type": "code",
   "execution_count": 5,
   "metadata": {},
   "outputs": [
    {
     "name": "stdout",
     "output_type": "stream",
     "text": [
      "Powers of array values element-wise:\n",
      "      X     Y     Z\n",
      "0  6084  7056  7396\n",
      "1  7225  8836  9409\n",
      "2  9216  7921  9216\n",
      "3  6400  6889  5184\n",
      "4  7396  7396  6889\n"
     ]
    }
   ],
   "source": [
    "import pandas as pd\n",
    "\n",
    "data = {'X': [78, 85, 96, 80, 86], 'Y': [84, 94, 89, 83, 86], 'Z': [86, 97, 96, 72, 83]}\n",
    "df = pd.DataFrame(data)\n",
    "\n",
    "result = df.apply(lambda x: x ** 2)\n",
    "print(\"Powers of array values element-wise:\")\n",
    "print(result)"
   ]
  },
  {
   "cell_type": "code",
   "execution_count": 6,
   "metadata": {},
   "outputs": [
    {
     "name": "stdout",
     "output_type": "stream",
     "text": [
      "First three rows of the data frame:\n",
      "        name  score  attempts qualify\n",
      "a  Anastasia   12.5         1     yes\n",
      "b       Dima    9.0         3      no\n",
      "c  Katherine   16.5         2     yes\n"
     ]
    }
   ],
   "source": [
    "import pandas as pd\n",
    "import numpy as np\n",
    "\n",
    "exam_data = {'name': ['Anastasia', 'Dima', 'Katherine', 'James', 'Emily', 'Michael', 'Matthew', 'Laura', 'Kevin', 'Jonas'],\n",
    "             'score': [12.5, 9, 16.5, np.nan, 9, 20, 14.5, np.nan, 8, 19],\n",
    "             'attempts': [1, 3, 2, 3, 2, 3, 1, 1, 2, 1],\n",
    "             'qualify': ['yes', 'no', 'yes', 'no', 'no', 'yes', 'yes', 'no', 'no', 'yes']}\n",
    "labels = ['a', 'b', 'c', 'd', 'e', 'f', 'g', 'h', 'i', 'j']\n",
    "\n",
    "df = pd.DataFrame(exam_data, index=labels)\n",
    "\n",
    "print(\"First three rows of the data frame:\")\n",
    "print(df.head(3))"
   ]
  },
  {
   "cell_type": "code",
   "execution_count": 7,
   "metadata": {},
   "outputs": [
    {
     "name": "stdout",
     "output_type": "stream",
     "text": [
      "DataFrame:\n",
      "    Street    ID Class            Name         DOB  Age\n",
      "0  Streat1  S001     V  Alberto Franco  15/05/2002   35\n",
      "1  Streat2  S002     V    Gino Mcneill  17/05/2002   32\n",
      "2  Streat3  S003    VI     Ryan Parkes  16/02/1999   33\n",
      "3  Streat4  S004    VI    Eesha Hinton  25/09/1998   30\n",
      "4  Streat5  S005     V    Gino Mcneill  11/05/2002   31\n",
      "5  Streat6  S006    VI    David Parkes  15/09/1997   32\n"
     ]
    }
   ],
   "source": [
    "import pandas as pd\n",
    "\n",
    "data = {'Street': ['Streat1', 'Streat2', 'Streat3', 'Streat4', 'Streat5', 'Streat6'],\n",
    "        'ID': ['S001', 'S002', 'S003', 'S004', 'S005', 'S006'],\n",
    "        'Class': ['V', 'V', 'VI', 'VI', 'V', 'VI'],\n",
    "        'Name': ['Alberto Franco', 'Gino Mcneill', 'Ryan Parkes', 'Eesha Hinton', 'Gino Mcneill', 'David Parkes'],\n",
    "        'DOB': ['15/05/2002', '17/05/2002', '16/02/1999', '25/09/1998', '11/05/2002', '15/09/1997'],\n",
    "        'Age': [35, 32, 33, 30, 31, 32]}\n",
    "\n",
    "df = pd.DataFrame(data)\n",
    "\n",
    "print(\"DataFrame:\")\n",
    "print(df)"
   ]
  },
  {
   "cell_type": "code",
   "execution_count": 8,
   "metadata": {},
   "outputs": [
    {
     "name": "stdout",
     "output_type": "stream",
     "text": [
      "DataFrame with 'ID' as the index:\n",
      "       Street Class            Name         DOB  Age\n",
      "ID                                                  \n",
      "S001  Streat1     V  Alberto Franco  15/05/2002   35\n",
      "S002  Streat2     V    Gino Mcneill  17/05/2002   32\n",
      "S003  Streat3    VI     Ryan Parkes  16/02/1999   33\n",
      "S004  Streat4    VI    Eesha Hinton  25/09/1998   30\n",
      "S005  Streat5     V    Gino Mcneill  11/05/2002   31\n",
      "S006  Streat6    VI    David Parkes  15/09/1997   32\n",
      "\n",
      "DataFrame after resetting the index:\n",
      "     ID   Street Class            Name         DOB  Age\n",
      "0  S001  Streat1     V  Alberto Franco  15/05/2002   35\n",
      "1  S002  Streat2     V    Gino Mcneill  17/05/2002   32\n",
      "2  S003  Streat3    VI     Ryan Parkes  16/02/1999   33\n",
      "3  S004  Streat4    VI    Eesha Hinton  25/09/1998   30\n",
      "4  S005  Streat5     V    Gino Mcneill  11/05/2002   31\n",
      "5  S006  Streat6    VI    David Parkes  15/09/1997   32\n"
     ]
    }
   ],
   "source": [
    "import pandas as pd\n",
    "\n",
    "data = {'Street': ['Streat1', 'Streat2', 'Streat3', 'Streat4', 'Streat5', 'Streat6'],\n",
    "        'ID': ['S001', 'S002', 'S003', 'S004', 'S005', 'S006'],\n",
    "        'Class': ['V', 'V', 'VI', 'VI', 'V', 'VI'],\n",
    "        'Name': ['Alberto Franco', 'Gino Mcneill', 'Ryan Parkes', 'Eesha Hinton', 'Gino Mcneill', 'David Parkes'],\n",
    "        'DOB': ['15/05/2002', '17/05/2002', '16/02/1999', '25/09/1998', '11/05/2002', '15/09/1997'],\n",
    "        'Age': [35, 32, 33, 30, 31, 32]}\n",
    "\n",
    "df = pd.DataFrame(data)\n",
    "df.set_index('ID', inplace=True)\n",
    "\n",
    "print(\"DataFrame with 'ID' as the index:\")\n",
    "print(df)\n",
    "\n",
    "df.reset_index(inplace=True)\n",
    "print(\"\\nDataFrame after resetting the index:\")\n",
    "print(df)"
   ]
  },
  {
   "cell_type": "code",
   "execution_count": 9,
   "metadata": {},
   "outputs": [
    {
     "name": "stdout",
     "output_type": "stream",
     "text": [
      "DataFrame indexing by date and time:\n",
      "        date\n",
      "0 2024-03-01\n",
      "1 2024-03-02\n",
      "2 2024-03-03\n",
      "3 2024-03-04\n",
      "4 2024-03-05\n"
     ]
    }
   ],
   "source": [
    "import pandas as pd\n",
    "import datetime\n",
    "\n",
    "date_rng = pd.date_range(start='2024-03-01', end='2024-03-05', freq='D')\n",
    "df = pd.DataFrame(date_rng, columns=['date'])\n",
    "print(\"DataFrame indexing by date and time:\")\n",
    "print(df)"
   ]
  },
  {
   "cell_type": "code",
   "execution_count": 10,
   "metadata": {},
   "outputs": [
    {
     "name": "stdout",
     "output_type": "stream",
     "text": [
      "DataFrame with a title for the index column:\n",
      "              A  B\n",
      "Index_Column      \n",
      "0             1  4\n",
      "1             2  5\n",
      "2             3  6\n"
     ]
    }
   ],
   "source": [
    "import pandas as pd\n",
    "\n",
    "data = {'A': [1, 2, 3], 'B': [4, 5, 6]}\n",
    "df = pd.DataFrame(data)\n",
    "\n",
    "df.index.name = 'Index_Column'\n",
    "print(\"DataFrame with a title for the index column:\")\n",
    "print(df)"
   ]
  },
  {
   "cell_type": "code",
   "execution_count": 11,
   "metadata": {},
   "outputs": [
    {
     "name": "stdout",
     "output_type": "stream",
     "text": [
      "Selected row by integer index:\n",
      "A    2\n",
      "B    5\n",
      "Name: 1, dtype: int64\n"
     ]
    }
   ],
   "source": [
    "import pandas as pd\n",
    "\n",
    "data = {'A': [1, 2, 3], 'B': [4, 5, 6]}\n",
    "df = pd.DataFrame(data)\n",
    "\n",
    "\n",
    "selected_row = df.iloc[1]\n",
    "print(\"Selected row by integer index:\")\n",
    "print(selected_row)"
   ]
  },
  {
   "cell_type": "code",
   "execution_count": null,
   "metadata": {},
   "outputs": [],
   "source": []
  }
 ],
 "metadata": {
  "kernelspec": {
   "display_name": "base",
   "language": "python",
   "name": "python3"
  },
  "language_info": {
   "codemirror_mode": {
    "name": "ipython",
    "version": 3
   },
   "file_extension": ".py",
   "mimetype": "text/x-python",
   "name": "python",
   "nbconvert_exporter": "python",
   "pygments_lexer": "ipython3",
   "version": "3.11.5"
  }
 },
 "nbformat": 4,
 "nbformat_minor": 2
}
